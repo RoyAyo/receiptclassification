{
 "cells": [
  {
   "cell_type": "code",
   "execution_count": 1,
   "metadata": {},
   "outputs": [
    {
     "name": "stderr",
     "output_type": "stream",
     "text": [
      "Using TensorFlow backend.\n"
     ]
    }
   ],
   "source": [
    "import numpy as np\n",
    "import pandas as pd\n",
    "from matplotlib import pyplot as plt\n",
    "import keras\n",
    "import os\n",
    "import gc\n",
    "from keras.preprocessing.image import image,load_img,img_to_array\n",
    "from keras import Sequential\n",
    "from keras.layers import Dense,Conv2D,MaxPool2D,Flatten,Dropout\n",
    "from sklearn.model_selection import train_test_split"
   ]
  },
  {
   "cell_type": "code",
   "execution_count": 2,
   "metadata": {},
   "outputs": [
    {
     "name": "stdout",
     "output_type": "stream",
     "text": [
      "training set\n",
      "500 images converted\n",
      "1000 images converted\n",
      "1500 images converted\n",
      "2000 images converted\n",
      "2500 images converted\n",
      "3000 images converted\n",
      "3500 images converted\n",
      "4000 images converted\n",
      "Conversion Completed\n"
     ]
    }
   ],
   "source": [
    "#processing the image and converting them into numbers\n",
    "#getting all images\n",
    "train_pics = image.list_pictures(\"train/\")\n",
    "#test_pics = image.list_pictures(\"test/\")\n",
    "\n",
    "def image_resize(list,folder):\n",
    "    #convert all to the same dimensions of 100*100\n",
    "    os.mkdir(folder)\n",
    "    i = 0\n",
    "    for im in list:\n",
    "        #get old name\n",
    "        name = im.split(\"/\")[1]\n",
    "        try:\n",
    "            #read the image\n",
    "            z = load_img(im)\n",
    "            #resize the image\n",
    "            z = z.resize([32,32])\n",
    "            #save the image\n",
    "            z.save(folder+name)\n",
    "            i += 1\n",
    "            if (i %500 == 0 ):\n",
    "                print(\"{} images converted\".format(i))\n",
    "        except:\n",
    "            print(\"Cannot process {}\".format(name))\n",
    "    print(\"Conversion Completed\")\n",
    "print(\"training set\")\n",
    "image_resize(train_pics,\"contrain/\")\n",
    "#print(\"testing set\")\n",
    "#image_resize(test_pics,\"convtest/\")"
   ]
  },
  {
   "cell_type": "code",
   "execution_count": 4,
   "metadata": {},
   "outputs": [
    {
     "name": "stdout",
     "output_type": "stream",
     "text": [
      "Training Set\n",
      "500 images converted\n",
      "1000 images converted\n",
      "1500 images converted\n",
      "2000 images converted\n",
      "2500 images converted\n",
      "3000 images converted\n",
      "3500 images converted\n",
      "4000 images converted\n",
      "Conversion is Completed\n"
     ]
    }
   ],
   "source": [
    "train = image.list_pictures(\"contrain/\")\n",
    "#test = image.list_pictures(\"convtest/\")\n",
    "#instatiate the test and train images\n",
    "d1 = np.zeros([len(train),32,32,3])\n",
    "#d2 = np.zeros([len(test),100,100,3])\n",
    "def convert_to_numpy(file,list):\n",
    "    i = 0\n",
    "    for im in file:\n",
    "        #read the image\n",
    "        try:\n",
    "            z = load_img(im)\n",
    "            #convert into images and replace in the instatiated datasets above\n",
    "            list[i] = img_to_array(z)\n",
    "            i += 1\n",
    "            if (i%500==0):\n",
    "                print(\"{} images converted\".format(i))\n",
    "        except:\n",
    "            print(\"Cannot process image {}\".format(im))\n",
    "    print (\"Conversion is Completed\")\n",
    "print(\"Training Set\")\n",
    "convert_to_numpy(train,d1)\n",
    "#print(\"Testing Set\")\n",
    "#convert_to_numpy(test,d2)"
   ]
  },
  {
   "cell_type": "code",
   "execution_count": 5,
   "metadata": {},
   "outputs": [],
   "source": [
    "# #normalizing the data\n",
    "d1 = (d1 - 128)/ 128\n",
    "#d2 = (d2 - 128)/ 128"
   ]
  },
  {
   "cell_type": "code",
   "execution_count": 7,
   "metadata": {},
   "outputs": [
    {
     "data": {
      "text/plain": [
       "21"
      ]
     },
     "execution_count": 7,
     "metadata": {},
     "output_type": "execute_result"
    }
   ],
   "source": [
    "#getting the id for images accordingly\n",
    "img_id = []\n",
    "for dir in train:\n",
    "    img_id.append(dir.split(\"/\")[1].split(\".\")[0])\n",
    "img_id_df = pd.Series(img_id,name='img_id').astype(\"int64\")\n",
    "\n",
    "\n",
    "#reshape your image and join\n",
    "dt1 = d1.reshape([d1.shape[0],32*32*3])\n",
    "#dt2 = d2.reshape([d2.shape[0],100*100*3])\n",
    "dt_df = pd.DataFrame(dt1)\n",
    "#dt_df2 = pd.DataFrame(dt2)\n",
    "\n",
    "del dt1\n",
    "#del dt2\n",
    "del img_id\n",
    "\n",
    "#joining the dataframe together \n",
    "dt = dt_df.join(img_id_df)\n",
    "\n",
    "del dt_df\n",
    "#del dt_df2\n",
    "del img_id_df\n",
    "gc.collect()"
   ]
  },
  {
   "cell_type": "code",
   "execution_count": 8,
   "metadata": {},
   "outputs": [],
   "source": [
    "#reading the labels datasets\n",
    "id_df = pd.read_csv(\"train_labels.csv\")\n",
    "id_df.drop('Unnamed: 0',axis=1,inplace=True)\n",
    "\n",
    "#merge the two datasets for proper labeling\n",
    "final_train_df = dt.merge(id_df,on=\"img_id\")"
   ]
  },
  {
   "cell_type": "code",
   "execution_count": 9,
   "metadata": {},
   "outputs": [],
   "source": [
    "X = final_train_df.drop(['fuel','parking','restaurant','transport','img_id'],axis=1)\n",
    "y = final_train_df[['fuel','parking','restaurant','transport']]"
   ]
  },
  {
   "cell_type": "code",
   "execution_count": 39,
   "metadata": {},
   "outputs": [],
   "source": [
    "#train test split\n",
    "\n",
    "X_train,X_test,y_train,y_test = train_test_split(X,y,test_size=0.25,random_state=41)"
   ]
  },
  {
   "cell_type": "code",
   "execution_count": 40,
   "metadata": {},
   "outputs": [],
   "source": [
    "#converting back to numpy and reshaping\n",
    "Xtrain = X_train.values.reshape([len(X_train),32,32,3])\n",
    "Xtest = X_test.values.reshape([len(X_test),32,32,3])\n",
    "ytrain = y_train.values\n",
    "ytest = y_test.values"
   ]
  },
  {
   "cell_type": "code",
   "execution_count": 76,
   "metadata": {},
   "outputs": [],
   "source": [
    "#structure of your convolution layer\n",
    "\n",
    "model = Sequential()\n",
    "model.add(Conv2D(32,(3,3),activation=\"relu\",input_shape=(32,32,3)))\n",
    "model.add(MaxPool2D(pool_size=(2,2)))\n",
    "model.add(Dropout(rate=0.5))\n",
    "model.add(Conv2D(64,(3,3),activation=\"tanh\"))\n",
    "model.add(MaxPool2D(pool_size=(2,2)))\n",
    "model.add(Dropout(rate=0.5))\n",
    "model.add(Flatten())\n",
    "model.add(Dense(512,activation=\"relu\"))\n",
    "model.add(Dropout(rate=0.5))\n",
    "#model.add(Dense(128,activation=\"relu\"))\n",
    "#model.add(Dropout(0.5))\n",
    "model.add(Dense(4,activation=\"softmax\"))"
   ]
  },
  {
   "cell_type": "code",
   "execution_count": 77,
   "metadata": {},
   "outputs": [],
   "source": [
    "model.compile(\"adam\",loss=\"categorical_crossentropy\",metrics=['accuracy'])"
   ]
  },
  {
   "cell_type": "code",
   "execution_count": 78,
   "metadata": {},
   "outputs": [
    {
     "name": "stdout",
     "output_type": "stream",
     "text": [
      "Epoch 1/20\n",
      "3015/3015 [==============================] - 11s 4ms/step - loss: 1.3743 - acc: 0.3274\n",
      "Epoch 2/20\n",
      "3015/3015 [==============================] - 8s 3ms/step - loss: 1.2821 - acc: 0.4017\n",
      "Epoch 3/20\n",
      "3015/3015 [==============================] - 8s 3ms/step - loss: 1.2355 - acc: 0.4415\n",
      "Epoch 4/20\n",
      "3015/3015 [==============================] - 8s 3ms/step - loss: 1.1871 - acc: 0.4604\n",
      "Epoch 5/20\n",
      "3015/3015 [==============================] - 8s 3ms/step - loss: 1.1499 - acc: 0.5041\n",
      "Epoch 6/20\n",
      "3015/3015 [==============================] - 8s 3ms/step - loss: 1.1172 - acc: 0.5184\n",
      "Epoch 7/20\n",
      "3015/3015 [==============================] - 8s 3ms/step - loss: 1.0798 - acc: 0.5393A: 4s - loss:  - E\n",
      "Epoch 8/20\n",
      "3015/3015 [==============================] - 8s 3ms/step - loss: 1.0447 - acc: 0.5648\n",
      "Epoch 9/20\n",
      "3015/3015 [==============================] - 8s 3ms/step - loss: 1.0186 - acc: 0.5648\n",
      "Epoch 10/20\n",
      "3015/3015 [==============================] - 8s 3ms/step - loss: 0.9942 - acc: 0.5705A: 0s - loss: 0.9910 - acc: 0.\n",
      "Epoch 11/20\n",
      "3015/3015 [==============================] - 8s 3ms/step - loss: 0.9353 - acc: 0.6156\n",
      "Epoch 12/20\n",
      "3015/3015 [==============================] - 8s 3ms/step - loss: 0.9239 - acc: 0.6216\n",
      "Epoch 13/20\n",
      "3015/3015 [==============================] - 8s 3ms/step - loss: 0.8741 - acc: 0.6262\n",
      "Epoch 14/20\n",
      "3015/3015 [==============================] - 8s 3ms/step - loss: 0.8625 - acc: 0.6504\n",
      "Epoch 15/20\n",
      "3015/3015 [==============================] - 8s 3ms/step - loss: 0.8280 - acc: 0.6624\n",
      "Epoch 16/20\n",
      "3015/3015 [==============================] - 9s 3ms/step - loss: 0.7797 - acc: 0.6839A: 2s - loss - ETA: 0s - loss: 0.7785 - acc: 0\n",
      "Epoch 17/20\n",
      "3015/3015 [==============================] - 8s 3ms/step - loss: 0.7448 - acc: 0.6978\n",
      "Epoch 18/20\n",
      "3015/3015 [==============================] - 8s 3ms/step - loss: 0.7144 - acc: 0.7211\n",
      "Epoch 19/20\n",
      "3015/3015 [==============================] - 8s 3ms/step - loss: 0.6583 - acc: 0.7456\n",
      "Epoch 20/20\n",
      "3015/3015 [==============================] - 8s 3ms/step - loss: 0.6521 - acc: 0.7446ETA: 0s - loss: 0.6390 -\n"
     ]
    },
    {
     "data": {
      "text/plain": [
       "<keras.callbacks.History at 0x1e8e2971080>"
      ]
     },
     "execution_count": 78,
     "metadata": {},
     "output_type": "execute_result"
    }
   ],
   "source": [
    "model.fit(Xtrain,ytrain,batch_size=32,epochs=20)"
   ]
  },
  {
   "cell_type": "code",
   "execution_count": 60,
   "metadata": {},
   "outputs": [],
   "source": [
    "#model.fit(Xtrain,ytrain,batch_size=32,epochs=15)"
   ]
  },
  {
   "cell_type": "code",
   "execution_count": 73,
   "metadata": {},
   "outputs": [],
   "source": [
    "pred = model.predict(Xtest)"
   ]
  },
  {
   "cell_type": "code",
   "execution_count": 74,
   "metadata": {
    "scrolled": true
   },
   "outputs": [],
   "source": [
    "a3 = accuracy_score(ytest.argmax(1),pred.argmax(1))"
   ]
  },
  {
   "cell_type": "code",
   "execution_count": 75,
   "metadata": {},
   "outputs": [
    {
     "data": {
      "text/plain": [
       "0.5104477611940299"
      ]
     },
     "execution_count": 75,
     "metadata": {},
     "output_type": "execute_result"
    }
   ],
   "source": [
    "a3"
   ]
  },
  {
   "cell_type": "code",
   "execution_count": 6,
   "metadata": {},
   "outputs": [
    {
     "ename": "NameError",
     "evalue": "name 'Xtest' is not defined",
     "output_type": "error",
     "traceback": [
      "\u001b[1;31m---------------------------------------------------------------------------\u001b[0m",
      "\u001b[1;31mNameError\u001b[0m                                 Traceback (most recent call last)",
      "\u001b[1;32m<ipython-input-6-38894f26d44f>\u001b[0m in \u001b[0;36m<module>\u001b[1;34m\u001b[0m\n\u001b[1;32m----> 1\u001b[1;33m \u001b[0mXtest\u001b[0m\u001b[1;33m.\u001b[0m\u001b[0mshape\u001b[0m\u001b[1;33m\u001b[0m\u001b[1;33m\u001b[0m\u001b[0m\n\u001b[0m",
      "\u001b[1;31mNameError\u001b[0m: name 'Xtest' is not defined"
     ]
    }
   ],
   "source": []
  },
  {
   "cell_type": "code",
   "execution_count": 8,
   "metadata": {},
   "outputs": [
    {
     "ename": "NameError",
     "evalue": "name 'final_train_df' is not defined",
     "output_type": "error",
     "traceback": [
      "\u001b[1;31m---------------------------------------------------------------------------\u001b[0m",
      "\u001b[1;31mNameError\u001b[0m                                 Traceback (most recent call last)",
      "\u001b[1;32m<ipython-input-8-7b27f52f7c3f>\u001b[0m in \u001b[0;36m<module>\u001b[1;34m\u001b[0m\n\u001b[1;32m----> 1\u001b[1;33m \u001b[0mfinal_train_df\u001b[0m\u001b[1;33m.\u001b[0m\u001b[0mhead\u001b[0m\u001b[1;33m(\u001b[0m\u001b[1;33m)\u001b[0m\u001b[1;33m\u001b[0m\u001b[1;33m\u001b[0m\u001b[0m\n\u001b[0m",
      "\u001b[1;31mNameError\u001b[0m: name 'final_train_df' is not defined"
     ]
    }
   ],
   "source": [
    "final_train_df.head()"
   ]
  },
  {
   "cell_type": "code",
   "execution_count": null,
   "metadata": {},
   "outputs": [],
   "source": []
  }
 ],
 "metadata": {
  "kernelspec": {
   "display_name": "Python 3",
   "language": "python",
   "name": "python3"
  },
  "language_info": {
   "codemirror_mode": {
    "name": "ipython",
    "version": 3
   },
   "file_extension": ".py",
   "mimetype": "text/x-python",
   "name": "python",
   "nbconvert_exporter": "python",
   "pygments_lexer": "ipython3",
   "version": "3.7.1"
  }
 },
 "nbformat": 4,
 "nbformat_minor": 2
}
